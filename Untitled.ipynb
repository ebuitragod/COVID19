{
 "cells": [
  {
   "cell_type": "code",
   "execution_count": null,
   "metadata": {},
   "outputs": [],
   "source": [
    "                # you can write to stdout for debugging purposes, e.g.\n",
    "# print(\"this is a debug message\")\n",
    "\n",
    "def solution(N, K):\n",
    "    # write your code in Python 3.6\n",
    "    sol = 0\n",
    "    if K==0:\n",
    "        sol = N-1\n",
    "    else:\n",
    "        n = N\n",
    "        sol = int(N/2*K)-1\n",
    "        for k in [1,K]:\n",
    "            n = n / 2\n",
    "            if n % 2 == 0:\n",
    "                sol = sol +1\n",
    "            else:\n",
    "                sol += sol\n",
    "                n = int(n)\n",
    "        sol = sol + \n",
    "    return sol\n",
    "            \n",
    "            \n",
    "        \n",
    "\n",
    "    "
   ]
  }
 ],
 "metadata": {
  "kernelspec": {
   "display_name": "Python 3",
   "language": "python",
   "name": "python3"
  },
  "language_info": {
   "codemirror_mode": {
    "name": "ipython",
    "version": 3
   },
   "file_extension": ".py",
   "mimetype": "text/x-python",
   "name": "python",
   "nbconvert_exporter": "python",
   "pygments_lexer": "ipython3",
   "version": "3.7.4"
  }
 },
 "nbformat": 4,
 "nbformat_minor": 4
}
